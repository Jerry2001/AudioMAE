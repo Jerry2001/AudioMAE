{
 "cells": [
  {
   "cell_type": "code",
   "execution_count": 1,
   "id": "05ce49bf-4178-4168-8697-6f02f69db7d2",
   "metadata": {},
   "outputs": [
    {
     "ename": "ImportError",
     "evalue": "cannot import name 'mae_vit_base_patch16' from 'models_vit' (/data/scratch/ngop/AudioMAE/models_vit.py)",
     "output_type": "error",
     "traceback": [
      "\u001b[0;31m---------------------------------------------------------------------------\u001b[0m",
      "\u001b[0;31mImportError\u001b[0m                               Traceback (most recent call last)",
      "Input \u001b[0;32mIn [1]\u001b[0m, in \u001b[0;36m<cell line: 4>\u001b[0;34m()\u001b[0m\n\u001b[1;32m      1\u001b[0m \u001b[38;5;28;01mimport\u001b[39;00m \u001b[38;5;21;01mtorch\u001b[39;00m\n\u001b[1;32m      2\u001b[0m \u001b[38;5;28;01mimport\u001b[39;00m \u001b[38;5;21;01mtorchaudio\u001b[39;00m\n\u001b[0;32m----> 4\u001b[0m \u001b[38;5;28;01mfrom\u001b[39;00m \u001b[38;5;21;01mmodels_vit\u001b[39;00m \u001b[38;5;28;01mimport\u001b[39;00m mae_vit_base_patch16\n\u001b[1;32m      5\u001b[0m \u001b[38;5;28;01mfrom\u001b[39;00m \u001b[38;5;21;01mdataset\u001b[39;00m \u001b[38;5;28;01mimport\u001b[39;00m AudiosetDataset\n",
      "\u001b[0;31mImportError\u001b[0m: cannot import name 'mae_vit_base_patch16' from 'models_vit' (/data/scratch/ngop/AudioMAE/models_vit.py)"
     ]
    }
   ],
   "source": [
    "import torch\n",
    "import torchaudio\n",
    "\n",
    "from models_vit import mae_vit_base_patch16\n",
    "from dataset import AudiosetDataset "
   ]
  },
  {
   "cell_type": "code",
   "execution_count": null,
   "id": "f14e6e54-a34b-4012-90cc-53d4132f5c4f",
   "metadata": {},
   "outputs": [],
   "source": []
  }
 ],
 "metadata": {
  "kernelspec": {
   "display_name": "audiomae",
   "language": "python",
   "name": "audiomae"
  },
  "language_info": {
   "codemirror_mode": {
    "name": "ipython",
    "version": 3
   },
   "file_extension": ".py",
   "mimetype": "text/x-python",
   "name": "python",
   "nbconvert_exporter": "python",
   "pygments_lexer": "ipython3",
   "version": "3.9.7"
  }
 },
 "nbformat": 4,
 "nbformat_minor": 5
}
